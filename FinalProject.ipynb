{
 "cells": [
  {
   "cell_type": "markdown",
   "metadata": {},
   "source": [
    "# Final Project\n",
    "## CSCIE7\n",
    "### Riley Sullivan"
   ]
  },
  {
   "cell_type": "markdown",
   "metadata": {},
   "source": [
    "#### References\n",
    "##### https://plot.ly/python/bar-charts/\n",
    "\n",
    "##### data from: https://www.bls.gov/qcew"
   ]
  },
  {
   "cell_type": "markdown",
   "metadata": {},
   "source": [
    "#### Import Libraries"
   ]
  },
  {
   "cell_type": "code",
   "execution_count": 4,
   "metadata": {
    "collapsed": false
   },
   "outputs": [],
   "source": [
    "#import libraries for the project\n",
    "import plotly\n",
    "\n",
    "#create plotly account if you have not already\n",
    "plotly.tools.set_credentials_file(username='', api_key='')\n",
    "plotly.tools.set_config_file(world_readable=True, sharing='public')\n",
    "\n",
    "#import pandas to get the data\n",
    "import plotly.plotly as py\n",
    "import pandas as pd\n",
    "import plotly.graph_objs as go\n",
    "\n"
   ]
  },
  {
   "cell_type": "code",
   "execution_count": 5,
   "metadata": {
    "collapsed": true
   },
   "outputs": [],
   "source": [
    "#we will be referencing data from BLS\n",
    "#this is where we will set the states, year, and quarter to gather the data from\n",
    "#I will be using this example with the Q3 2016 data with the 6 NE states\n",
    "statecodes = ((\"RI\", \"44\"), (\"MA\", \"25\"), (\"CT\", \"09\"), (\"NH\", \"33\" ), (\"ME\", \"23\" ), (\"VT\", \"50\"))\n",
    "year = \"2016\"\n",
    "quarter = \"3\""
   ]
  },
  {
   "cell_type": "code",
   "execution_count": 7,
   "metadata": {
    "collapsed": false
   },
   "outputs": [
    {
     "name": "stdout",
     "output_type": "stream",
     "text": [
      "High five! You successfuly sent some data to your account on plotly. View your plot in your browser at https://plot.ly/~bc2012er/0 or inside your plot.ly account where it is named 'RI QCEW'\n"
     ]
    }
   ],
   "source": [
    "#this loop will reference the statecodes from above\n",
    "\n",
    "for statecode in statecodes:\n",
    "    state = statecode[0]\n",
    "    fips = statecode[1]\n",
    "    df = pd.read_csv('https://beta.bls.gov/maps/cew/'+state+'?period='+year+'-Q'+quarter+'&industry=10&geo_id='+fips+'000&chartData=7&distribution=Quantiles&pos_color=blue&neg_color=orange&showHideChart=show&ownerType=0&req_type=xls', header=3)\n",
    "    df.head()\n",
    "\n",
    "    Counties = df[\"Area Name\"]\n",
    "    EmploymentChange = df[\"One-Year Employment Gain/Loss (Percent)\"]\n",
    "    WageChange = df[\"On-Year Weekly Wages Gain/Loss (Percent)\"]\n",
    "    EmploymentLevel = df[\"Employment\"]\n",
    "    WageLevel = df[\"Average Weekly Wages\"]\n",
    "\n",
    "    WageLevelLabels = [\"Average Weekly Wages : $\" + str(x) for x in WageLevel]\n",
    "    EmploymentLevelLabels = [\"Total Payroll Employment in County: \" + str(x) for x in EmploymentLevel]\n",
    "\n",
    "    trace1 = go.Bar(\n",
    "        x=Counties,\n",
    "        y=EmploymentChange,\n",
    "        name='Employment Change',\n",
    "        hovertext = EmploymentLevelLabels,\n",
    "        text = EmploymentLevelLabels\n",
    "    )\n",
    "    trace2 = go.Bar(\n",
    "        x=Counties,\n",
    "        y=WageChange,\n",
    "        name='Wage Change',\n",
    "        hovertext = WageLevelLabels,\n",
    "        text = WageLevelLabels\n",
    "    )\n",
    "\n",
    "    data = [trace1, trace2]\n",
    "    layout = go.Layout(\n",
    "        barmode='group',\n",
    "        title = state + \" QCEW Year-over-Year\"\n",
    "    )\n",
    "\n",
    "    fig = go.Figure(data=data, layout=layout)\n",
    "    py.iplot(fig, filename= state + ' QCEW')\n",
    "    "
   ]
  },
  {
   "cell_type": "code",
   "execution_count": null,
   "metadata": {
    "collapsed": true
   },
   "outputs": [],
   "source": []
  }
 ],
 "metadata": {
  "anaconda-cloud": {},
  "kernelspec": {
   "display_name": "Python [default]",
   "language": "python",
   "name": "python3"
  },
  "language_info": {
   "codemirror_mode": {
    "name": "ipython",
    "version": 3
   },
   "file_extension": ".py",
   "mimetype": "text/x-python",
   "name": "python",
   "nbconvert_exporter": "python",
   "pygments_lexer": "ipython3",
   "version": "3.5.2"
  }
 },
 "nbformat": 4,
 "nbformat_minor": 2
}
